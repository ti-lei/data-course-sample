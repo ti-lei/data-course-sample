{
 "cells": [
  {
   "cell_type": "markdown",
   "id": "c6dcfa30",
   "metadata": {
    "colab_type": "text",
    "id": "view-in-github"
   },
   "source": [
    "<a href=\"https://colab.research.google.com/github/ti-lei/data-course-sample/blob/main/%E3%80%8Csample_ipynb%E3%80%8D%E7%9A%84%E5%89%AF%E6%9C%AC.ipynb\" target=\"_parent\"><img src=\"https://colab.research.google.com/assets/colab-badge.svg\" alt=\"Open In Colab\"/></a>"
   ]
  },
  {
   "cell_type": "markdown",
   "id": "pdyPzNuEFqum",
   "metadata": {
    "id": "pdyPzNuEFqum"
   },
   "source": [
    "# Sample Code"
   ]
  },
  {
   "cell_type": "markdown",
   "id": "5MOpuiKgFquw",
   "metadata": {
    "id": "5MOpuiKgFquw"
   },
   "source": [
    "## 基礎建設"
   ]
  },
  {
   "cell_type": "code",
   "execution_count": 1,
   "id": "anBluQXrFqux",
   "metadata": {
    "id": "anBluQXrFqux",
    "scrolled": true
   },
   "outputs": [],
   "source": [
    "# test\n",
    "import pandas as pd\n",
    "import gzip, json\n",
    "\n",
    "def parse(path):\n",
    "    g = gzip.open(path, 'rb')\n",
    "    for l in g:\n",
    "        yield json.loads(l)\n",
    "\n",
    "def getDF(path):\n",
    "    i = 0\n",
    "    df = {}\n",
    "    for d in parse(path):\n",
    "        df[i] = d\n",
    "        i += 1\n",
    "    return pd.DataFrame.from_dict(df, orient='index')"
   ]
  },
  {
   "cell_type": "markdown",
   "id": "Ye39cPjwFqu3",
   "metadata": {
    "id": "Ye39cPjwFqu3"
   },
   "source": [
    "## 載入資料"
   ]
  },
  {
   "cell_type": "code",
   "execution_count": 3,
   "id": "NPXk2XkjFqu4",
   "metadata": {
    "colab": {
     "base_uri": "https://localhost:8080/"
    },
    "id": "NPXk2XkjFqu4",
    "outputId": "4d827f3c-d13f-47ee-a027-3169cf2f305d"
   },
   "outputs": [
    {
     "name": "stdout",
     "output_type": "stream",
     "text": [
      "\n",
      "Saved under All_Beauty.csv\n",
      "\n",
      "Saved under meta_All_Beauty.json.gz\n"
     ]
    }
   ],
   "source": [
    "# windows (!python -m)跟 在 colab(!wget) 有差\n",
    "!python -m wget http://deepyeti.ucsd.edu/jianmo/amazon/categoryFilesSmall/All_Beauty.csv\n",
    "!python -m wget http://deepyeti.ucsd.edu/jianmo/amazon/metaFiles2/meta_All_Beauty.json.gz"
   ]
  },
  {
   "cell_type": "code",
   "execution_count": 112,
   "id": "1pLIeh5jFqu6",
   "metadata": {
    "id": "1pLIeh5jFqu6"
   },
   "outputs": [],
   "source": [
    "metadata = getDF('meta_All_Beauty.json.gz')\n",
    "# 原始資料沒有 header 另外命名給他\n",
    "ratings = pd.read_csv('All_Beauty.csv', names=['asin', 'reviewerID', 'overall', 'unixReviewTime'], header=None)\n",
    "# 輸出metada 到csv\n",
    "# metadata.to_csv('metada.csv',index=False)"
   ]
  },
  {
   "cell_type": "code",
   "execution_count": 113,
   "id": "oRd9zfRZFqu-",
   "metadata": {
    "colab": {
     "base_uri": "https://localhost:8080/",
     "height": 206
    },
    "id": "oRd9zfRZFqu-",
    "outputId": "7a45852e-3ea5-4881-b90f-a4c7036f9cf5"
   },
   "outputs": [],
   "source": [
    "ratings.head()\n",
    "# 將 metada 取出要用的資訊\n",
    "maindata = metadata[['rank','price','asin']]\n",
    "# 直接把資料重複的丟掉\n",
    "maindata = maindata.drop_duplicates(subset=['asin'])"
   ]
  },
  {
   "cell_type": "markdown",
   "id": "0amTkUQ9FqvA",
   "metadata": {
    "id": "0amTkUQ9FqvA"
   },
   "source": [
    "## 資料整理"
   ]
  },
  {
   "cell_type": "code",
   "execution_count": 114,
   "id": "ZGTlYMY-FqvC",
   "metadata": {
    "id": "ZGTlYMY-FqvC"
   },
   "outputs": [],
   "source": [
    "ratings['DATE'] = pd.to_datetime(ratings['unixReviewTime'], unit='s')\n",
    "# 把 unixReviewTime drop\n",
    "ratings.drop(columns=['unixReviewTime'],inplace = True)"
   ]
  },
  {
   "cell_type": "markdown",
   "id": "xYfwlE-XFqvE",
   "metadata": {
    "id": "xYfwlE-XFqvE"
   },
   "source": [
    "## 資料切分"
   ]
  },
  {
   "cell_type": "code",
   "execution_count": 115,
   "id": "Kxvy7g4nFqvE",
   "metadata": {
    "id": "Kxvy7g4nFqvE"
   },
   "outputs": [],
   "source": [
    "ratings_trainings = ratings[\n",
    "    (ratings['DATE'] < '2018-09-01')\n",
    "]\n",
    "ratings_testings = ratings[\n",
    "    (ratings['DATE'] >= '2018-09-01') & \n",
    "    (ratings['DATE'] <= '2018-09-30')\n",
    "]\n",
    "# agg(list)會把所有除了reviewerID的欄位用陣列包住\n",
    "# to_dict 會把 dataframe 轉成字典(一列一個字典) 並用 陣列包住\n",
    "ratings_testings_by_user = ratings_testings.groupby('reviewerID').agg(list).reset_index()[['reviewerID', 'asin']].to_dict('records')\n",
    "\n",
    "# 把 [{'asin': ['B01DKQAXC0'], 'reviewerID': 'A100XQFWKQ30O2'},..] 變成 {A100XQFWKQ30O2:['B01DKQAXC0'],...}\n",
    "# key: reviwerID value: asin\n",
    "ratings_testings_by_user = { rating['reviewerID']: rating['asin'] for rating in ratings_testings_by_user }\n",
    "\n",
    "# users:[user1,user2....]\n",
    "users = list(ratings_testings_by_user.keys())\n",
    "\n",
    "# 應該要測試 users 在測試的資料裡 是否有跟 訓練的資料重疊 如果沒有的話根本不知道其消費行為 根本隨便推薦:\n"
   ]
  },
  {
   "cell_type": "markdown",
   "id": "f82ef011",
   "metadata": {},
   "source": [
    "# maindata資料整理"
   ]
  },
  {
   "cell_type": "code",
   "execution_count": 116,
   "id": "41c85cc9",
   "metadata": {
    "scrolled": false
   },
   "outputs": [
    {
     "name": "stderr",
     "output_type": "stream",
     "text": [
      "<ipython-input-116-77b80527c6be>:9: FutureWarning: The default value of regex will change from True to False in a future version.\n",
      "  maindata['price'] = maindata['price'].str.replace(',|\\-', '')\n"
     ]
    }
   ],
   "source": [
    "# maindata[maindata['asin'].astype(bool)]\n",
    "\n",
    "# 處理 Rank的部分 將 rank 轉為數字\n",
    "rankseries = maindata['rank'].str.split(expand=True)\n",
    "maindata['rank'] = rankseries[0]\n",
    "maindata['rank'].replace(',','', regex=True, inplace=True)\n",
    "maindata['rank'] = maindata['rank'].apply(pd.to_numeric,errors='coerce')\n",
    "#替換字元 ,或是 - 換成空白\n",
    "maindata['price'] = maindata['price'].str.replace(',|\\-', '')\n",
    "# 如果 price 是空白 或是第一個字元不是$ 或是 字串長度過長('$12.90 -$169.95') 就給0\n",
    "maindata['price'] = maindata['price'].map(lambda x: 0 if not x or x[0]!='$' or len(x)>6 else float(x[1:]))\n",
    "# 處理outlier, 有一筆資料的rank過大\n",
    "maindata = maindata[maindata['rank'] <= 0.8*10**7]\n"
   ]
  },
  {
   "cell_type": "code",
   "execution_count": null,
   "id": "2412d6cc",
   "metadata": {},
   "outputs": [],
   "source": [
    "# 合併兩個表"
   ]
  },
  {
   "cell_type": "code",
   "execution_count": 117,
   "id": "f95b3004",
   "metadata": {
    "scrolled": true
   },
   "outputs": [],
   "source": [
    "#將 index 設為asin後就可以把資料合進去\n",
    "maindata = maindata.set_index('asin')\n",
    "# 紀錄產品平均評分\n",
    "maindata['overall_mean'] = ratings_trainings.groupby(by=['asin']).mean()['overall']\n",
    "\n",
    "# 紀錄產品評分次數\n",
    "maindata['reviews_count'] = ratings_trainings.groupby(by=['asin']).size()"
   ]
  },
  {
   "cell_type": "code",
   "execution_count": 137,
   "id": "c8be148c",
   "metadata": {
    "scrolled": false
   },
   "outputs": [
    {
     "name": "stderr",
     "output_type": "stream",
     "text": [
      "<ipython-input-137-197d34fa0607>:2: UserWarning: Boolean Series key will be reindexed to match DataFrame index.\n",
      "  buy_last_three_month = ratings_trainings[\n"
     ]
    },
    {
     "data": {
      "text/html": [
       "<div>\n",
       "<style scoped>\n",
       "    .dataframe tbody tr th:only-of-type {\n",
       "        vertical-align: middle;\n",
       "    }\n",
       "\n",
       "    .dataframe tbody tr th {\n",
       "        vertical-align: top;\n",
       "    }\n",
       "\n",
       "    .dataframe thead th {\n",
       "        text-align: right;\n",
       "    }\n",
       "</style>\n",
       "<table border=\"1\" class=\"dataframe\">\n",
       "  <thead>\n",
       "    <tr style=\"text-align: right;\">\n",
       "      <th></th>\n",
       "      <th>rank</th>\n",
       "      <th>price</th>\n",
       "      <th>overall_mean</th>\n",
       "      <th>reviews_count</th>\n",
       "      <th>buy_last_three_month</th>\n",
       "    </tr>\n",
       "    <tr>\n",
       "      <th>asin</th>\n",
       "      <th></th>\n",
       "      <th></th>\n",
       "      <th></th>\n",
       "      <th></th>\n",
       "      <th></th>\n",
       "    </tr>\n",
       "  </thead>\n",
       "  <tbody>\n",
       "    <tr>\n",
       "      <th>B00BXPVIT8</th>\n",
       "      <td>35.0</td>\n",
       "      <td>21.44</td>\n",
       "      <td>4.846154</td>\n",
       "      <td>13.0</td>\n",
       "      <td>NaN</td>\n",
       "    </tr>\n",
       "    <tr>\n",
       "      <th>B006IB5T4W</th>\n",
       "      <td>65.0</td>\n",
       "      <td>11.29</td>\n",
       "      <td>4.643369</td>\n",
       "      <td>2790.0</td>\n",
       "      <td>57.0</td>\n",
       "    </tr>\n",
       "    <tr>\n",
       "      <th>B00HYEPVG8</th>\n",
       "      <td>245.0</td>\n",
       "      <td>9.59</td>\n",
       "      <td>4.588235</td>\n",
       "      <td>34.0</td>\n",
       "      <td>9.0</td>\n",
       "    </tr>\n",
       "    <tr>\n",
       "      <th>B001QY8QXM</th>\n",
       "      <td>280.0</td>\n",
       "      <td>9.30</td>\n",
       "      <td>4.556118</td>\n",
       "      <td>4544.0</td>\n",
       "      <td>16.0</td>\n",
       "    </tr>\n",
       "    <tr>\n",
       "      <th>B00005JS5C</th>\n",
       "      <td>457.0</td>\n",
       "      <td>18.49</td>\n",
       "      <td>4.088039</td>\n",
       "      <td>2249.0</td>\n",
       "      <td>NaN</td>\n",
       "    </tr>\n",
       "    <tr>\n",
       "      <th>B007EITOSK</th>\n",
       "      <td>575.0</td>\n",
       "      <td>3.90</td>\n",
       "      <td>3.904934</td>\n",
       "      <td>831.0</td>\n",
       "      <td>18.0</td>\n",
       "    </tr>\n",
       "    <tr>\n",
       "      <th>B00BXR0SFG</th>\n",
       "      <td>853.0</td>\n",
       "      <td>11.94</td>\n",
       "      <td>4.500000</td>\n",
       "      <td>2.0</td>\n",
       "      <td>NaN</td>\n",
       "    </tr>\n",
       "    <tr>\n",
       "      <th>B002OITLG0</th>\n",
       "      <td>872.0</td>\n",
       "      <td>8.40</td>\n",
       "      <td>4.313025</td>\n",
       "      <td>476.0</td>\n",
       "      <td>7.0</td>\n",
       "    </tr>\n",
       "    <tr>\n",
       "      <th>B01DJI7796</th>\n",
       "      <td>1017.0</td>\n",
       "      <td>6.95</td>\n",
       "      <td>4.583333</td>\n",
       "      <td>120.0</td>\n",
       "      <td>11.0</td>\n",
       "    </tr>\n",
       "    <tr>\n",
       "      <th>B000050FDY</th>\n",
       "      <td>1028.0</td>\n",
       "      <td>11.94</td>\n",
       "      <td>4.651495</td>\n",
       "      <td>1538.0</td>\n",
       "      <td>NaN</td>\n",
       "    </tr>\n",
       "    <tr>\n",
       "      <th>B01C39X6TW</th>\n",
       "      <td>1091.0</td>\n",
       "      <td>13.39</td>\n",
       "      <td>4.557143</td>\n",
       "      <td>140.0</td>\n",
       "      <td>29.0</td>\n",
       "    </tr>\n",
       "    <tr>\n",
       "      <th>B004E3ION4</th>\n",
       "      <td>1827.0</td>\n",
       "      <td>5.91</td>\n",
       "      <td>3.725166</td>\n",
       "      <td>302.0</td>\n",
       "      <td>6.0</td>\n",
       "    </tr>\n",
       "    <tr>\n",
       "      <th>B013XKHA4M</th>\n",
       "      <td>1895.0</td>\n",
       "      <td>45.00</td>\n",
       "      <td>4.272973</td>\n",
       "      <td>370.0</td>\n",
       "      <td>66.0</td>\n",
       "    </tr>\n",
       "    <tr>\n",
       "      <th>B00X4DKZKU</th>\n",
       "      <td>2034.0</td>\n",
       "      <td>0.00</td>\n",
       "      <td>4.531835</td>\n",
       "      <td>267.0</td>\n",
       "      <td>40.0</td>\n",
       "    </tr>\n",
       "    <tr>\n",
       "      <th>B00AJECD2A</th>\n",
       "      <td>2049.0</td>\n",
       "      <td>4.39</td>\n",
       "      <td>3.935323</td>\n",
       "      <td>201.0</td>\n",
       "      <td>17.0</td>\n",
       "    </tr>\n",
       "    <tr>\n",
       "      <th>B000A2LRBY</th>\n",
       "      <td>2483.0</td>\n",
       "      <td>28.99</td>\n",
       "      <td>4.216080</td>\n",
       "      <td>199.0</td>\n",
       "      <td>NaN</td>\n",
       "    </tr>\n",
       "    <tr>\n",
       "      <th>B00K2GF7SC</th>\n",
       "      <td>2724.0</td>\n",
       "      <td>41.98</td>\n",
       "      <td>4.112903</td>\n",
       "      <td>124.0</td>\n",
       "      <td>21.0</td>\n",
       "    </tr>\n",
       "    <tr>\n",
       "      <th>B001F51RBU</th>\n",
       "      <td>3019.0</td>\n",
       "      <td>22.03</td>\n",
       "      <td>4.691824</td>\n",
       "      <td>318.0</td>\n",
       "      <td>NaN</td>\n",
       "    </tr>\n",
       "    <tr>\n",
       "      <th>B001E96LXQ</th>\n",
       "      <td>3124.0</td>\n",
       "      <td>17.48</td>\n",
       "      <td>4.604167</td>\n",
       "      <td>48.0</td>\n",
       "      <td>NaN</td>\n",
       "    </tr>\n",
       "    <tr>\n",
       "      <th>B000YB70PS</th>\n",
       "      <td>3273.0</td>\n",
       "      <td>12.00</td>\n",
       "      <td>4.636364</td>\n",
       "      <td>748.0</td>\n",
       "      <td>NaN</td>\n",
       "    </tr>\n",
       "  </tbody>\n",
       "</table>\n",
       "</div>"
      ],
      "text/plain": [
       "              rank  price  overall_mean  reviews_count  buy_last_three_month\n",
       "asin                                                                        \n",
       "B00BXPVIT8    35.0  21.44      4.846154           13.0                   NaN\n",
       "B006IB5T4W    65.0  11.29      4.643369         2790.0                  57.0\n",
       "B00HYEPVG8   245.0   9.59      4.588235           34.0                   9.0\n",
       "B001QY8QXM   280.0   9.30      4.556118         4544.0                  16.0\n",
       "B00005JS5C   457.0  18.49      4.088039         2249.0                   NaN\n",
       "B007EITOSK   575.0   3.90      3.904934          831.0                  18.0\n",
       "B00BXR0SFG   853.0  11.94      4.500000            2.0                   NaN\n",
       "B002OITLG0   872.0   8.40      4.313025          476.0                   7.0\n",
       "B01DJI7796  1017.0   6.95      4.583333          120.0                  11.0\n",
       "B000050FDY  1028.0  11.94      4.651495         1538.0                   NaN\n",
       "B01C39X6TW  1091.0  13.39      4.557143          140.0                  29.0\n",
       "B004E3ION4  1827.0   5.91      3.725166          302.0                   6.0\n",
       "B013XKHA4M  1895.0  45.00      4.272973          370.0                  66.0\n",
       "B00X4DKZKU  2034.0   0.00      4.531835          267.0                  40.0\n",
       "B00AJECD2A  2049.0   4.39      3.935323          201.0                  17.0\n",
       "B000A2LRBY  2483.0  28.99      4.216080          199.0                   NaN\n",
       "B00K2GF7SC  2724.0  41.98      4.112903          124.0                  21.0\n",
       "B001F51RBU  3019.0  22.03      4.691824          318.0                   NaN\n",
       "B001E96LXQ  3124.0  17.48      4.604167           48.0                   NaN\n",
       "B000YB70PS  3273.0  12.00      4.636364          748.0                   NaN"
      ]
     },
     "execution_count": 137,
     "metadata": {},
     "output_type": "execute_result"
    }
   ],
   "source": [
    "# 最近 3個月內的rating\n",
    "buy_last_two_month = ratings_trainings[\n",
    "    (ratings['DATE'] < '2018-09-01') & (ratings['DATE'] > '2018-06-01')\n",
    "]\n",
    "maindata['buy_last_three_month'] = buy_last_three_month.groupby(by=['asin']).size().sort_values(ascending=False)\n",
    "\n",
    "maindata.sort_values(['rank','reviews_count'],ascending=[True, False]).head(20)\n",
    "\n",
    "# 測試資料是最後一個月的資料，所以前面一小段時間有購買行為的商品都可以視為潛在的推薦商品\n",
    "# 隨著時間接近 商品的銷售有成長的狀態 取近六個月的 加權平均\n",
    "\n"
   ]
  },
  {
   "cell_type": "code",
   "execution_count": 209,
   "id": "0ef99861",
   "metadata": {
    "scrolled": false
   },
   "outputs": [
    {
     "name": "stderr",
     "output_type": "stream",
     "text": [
      "<ipython-input-209-a031d9c76c1d>:1: UserWarning: Boolean Series key will be reindexed to match DataFrame index.\n",
      "  buy_last_two_month = ratings_trainings[\n",
      "<ipython-input-209-a031d9c76c1d>:5: UserWarning: Boolean Series key will be reindexed to match DataFrame index.\n",
      "  buy_last_three_month = ratings_trainings[\n"
     ]
    }
   ],
   "source": [
    "buy_last_two_month = ratings_trainings[\n",
    "    (ratings['DATE'] < '2018-02-01') & (ratings['DATE'] > '2018-01-01')\n",
    "]\n",
    "buy_last_two_month = buy_last_two_month.groupby(by=['asin']).size()\n",
    "buy_last_three_month = ratings_trainings[\n",
    "    (ratings['DATE'] < '2018-03-01') & (ratings['DATE'] > '2018-02-01')\n",
    "]\n",
    "buy_last_three_month = buy_last_three_month.groupby(by=['asin']).size()"
   ]
  },
  {
   "cell_type": "code",
   "execution_count": 212,
   "id": "5a70926c",
   "metadata": {},
   "outputs": [
    {
     "data": {
      "text/plain": [
       "0"
      ]
     },
     "execution_count": 212,
     "metadata": {},
     "output_type": "execute_result"
    }
   ],
   "source": [
    "sum(buy_last_two_month.index.duplicated())"
   ]
  },
  {
   "cell_type": "code",
   "execution_count": 249,
   "id": "95e45791",
   "metadata": {},
   "outputs": [
    {
     "name": "stderr",
     "output_type": "stream",
     "text": [
      "<ipython-input-249-83ebcd8e075a>:15: UserWarning: Boolean Series key will be reindexed to match DataFrame index.\n",
      "  buy_last_one_month = ratings_trainings[\n"
     ]
    },
    {
     "data": {
      "text/html": [
       "<div>\n",
       "<style scoped>\n",
       "    .dataframe tbody tr th:only-of-type {\n",
       "        vertical-align: middle;\n",
       "    }\n",
       "\n",
       "    .dataframe tbody tr th {\n",
       "        vertical-align: top;\n",
       "    }\n",
       "\n",
       "    .dataframe thead th {\n",
       "        text-align: right;\n",
       "    }\n",
       "</style>\n",
       "<table border=\"1\" class=\"dataframe\">\n",
       "  <thead>\n",
       "    <tr style=\"text-align: right;\">\n",
       "      <th></th>\n",
       "      <th>0</th>\n",
       "      <th>0</th>\n",
       "      <th>0</th>\n",
       "      <th>0</th>\n",
       "      <th>0</th>\n",
       "      <th>0</th>\n",
       "    </tr>\n",
       "  </thead>\n",
       "  <tbody>\n",
       "    <tr>\n",
       "      <th>B01DKQAXC0</th>\n",
       "      <td>210.0</td>\n",
       "      <td>434.0</td>\n",
       "      <td>579.0</td>\n",
       "      <td>524.0</td>\n",
       "      <td>625.0</td>\n",
       "      <td>642.0</td>\n",
       "    </tr>\n",
       "    <tr>\n",
       "      <th>B006IB5T4W</th>\n",
       "      <td>73.0</td>\n",
       "      <td>168.0</td>\n",
       "      <td>273.0</td>\n",
       "      <td>312.0</td>\n",
       "      <td>310.0</td>\n",
       "      <td>342.0</td>\n",
       "    </tr>\n",
       "    <tr>\n",
       "      <th>B0195R1FT8</th>\n",
       "      <td>72.0</td>\n",
       "      <td>150.0</td>\n",
       "      <td>252.0</td>\n",
       "      <td>288.0</td>\n",
       "      <td>260.0</td>\n",
       "      <td>108.0</td>\n",
       "    </tr>\n",
       "    <tr>\n",
       "      <th>B00W259T7G</th>\n",
       "      <td>60.0</td>\n",
       "      <td>176.0</td>\n",
       "      <td>150.0</td>\n",
       "      <td>152.0</td>\n",
       "      <td>230.0</td>\n",
       "      <td>348.0</td>\n",
       "    </tr>\n",
       "    <tr>\n",
       "      <th>B001QY8QXM</th>\n",
       "      <td>52.0</td>\n",
       "      <td>86.0</td>\n",
       "      <td>165.0</td>\n",
       "      <td>228.0</td>\n",
       "      <td>210.0</td>\n",
       "      <td>96.0</td>\n",
       "    </tr>\n",
       "    <tr>\n",
       "      <th>B012Z7IHHI</th>\n",
       "      <td>30.0</td>\n",
       "      <td>54.0</td>\n",
       "      <td>57.0</td>\n",
       "      <td>100.0</td>\n",
       "      <td>130.0</td>\n",
       "      <td>168.0</td>\n",
       "    </tr>\n",
       "    <tr>\n",
       "      <th>B007EITOSK</th>\n",
       "      <td>19.0</td>\n",
       "      <td>40.0</td>\n",
       "      <td>105.0</td>\n",
       "      <td>112.0</td>\n",
       "      <td>125.0</td>\n",
       "      <td>108.0</td>\n",
       "    </tr>\n",
       "    <tr>\n",
       "      <th>B00GW58YC8</th>\n",
       "      <td>18.0</td>\n",
       "      <td>32.0</td>\n",
       "      <td>105.0</td>\n",
       "      <td>104.0</td>\n",
       "      <td>140.0</td>\n",
       "      <td>90.0</td>\n",
       "    </tr>\n",
       "    <tr>\n",
       "      <th>B01BZV6VVY</th>\n",
       "      <td>53.0</td>\n",
       "      <td>72.0</td>\n",
       "      <td>144.0</td>\n",
       "      <td>128.0</td>\n",
       "      <td>60.0</td>\n",
       "      <td>30.0</td>\n",
       "    </tr>\n",
       "    <tr>\n",
       "      <th>B005IHT94S</th>\n",
       "      <td>7.0</td>\n",
       "      <td>20.0</td>\n",
       "      <td>36.0</td>\n",
       "      <td>84.0</td>\n",
       "      <td>140.0</td>\n",
       "      <td>168.0</td>\n",
       "    </tr>\n",
       "  </tbody>\n",
       "</table>\n",
       "</div>"
      ],
      "text/plain": [
       "                0      0      0      0      0      0\n",
       "B01DKQAXC0  210.0  434.0  579.0  524.0  625.0  642.0\n",
       "B006IB5T4W   73.0  168.0  273.0  312.0  310.0  342.0\n",
       "B0195R1FT8   72.0  150.0  252.0  288.0  260.0  108.0\n",
       "B00W259T7G   60.0  176.0  150.0  152.0  230.0  348.0\n",
       "B001QY8QXM   52.0   86.0  165.0  228.0  210.0   96.0\n",
       "B012Z7IHHI   30.0   54.0   57.0  100.0  130.0  168.0\n",
       "B007EITOSK   19.0   40.0  105.0  112.0  125.0  108.0\n",
       "B00GW58YC8   18.0   32.0  105.0  104.0  140.0   90.0\n",
       "B01BZV6VVY   53.0   72.0  144.0  128.0   60.0   30.0\n",
       "B005IHT94S    7.0   20.0   36.0   84.0  140.0  168.0"
      ]
     },
     "execution_count": 249,
     "metadata": {},
     "output_type": "execute_result"
    }
   ],
   "source": [
    "from datetime import datetime\n",
    "from dateutil.relativedelta import *\n",
    "# 開始時間的陣列\n",
    "start_date = []\n",
    "# 結束時間的陣列\n",
    "end_date = []\n",
    "# 紀錄每個時間間格購買數量\n",
    "buy_in_every_month = pd.DataFrame()\n",
    "#起始時間\n",
    "basic_date = datetime(2018, 1, 1)\n",
    "for i in range(6):\n",
    "    start_date = basic_date+relativedelta(months=+i)\n",
    "    end_date = basic_date+relativedelta(months=+i+1)\n",
    "\n",
    "    buy_last_one_month = ratings_trainings[\n",
    "        (ratings['DATE'] < end_date.strftime(\"%Y-%m-%d\")) & (ratings['DATE'] > start_date.strftime(\"%Y-%m-%d\"))\n",
    "    ]\n",
    "    buy_last_one_month = buy_last_one_month.groupby(by=['asin']).size()\n",
    "    #數據加權 越接近資料時間的終點加權越重\n",
    "    weight = i + 1\n",
    "    buy_last_one_month = weight * buy_last_one_month\n",
    "    #  第一次不能用 inner join 不然dataframe是空的\n",
    "    if i== 0:\n",
    "        buy_in_every_month = pd.concat([buy_in_every_month, buy_last_one_month])\n",
    "    # axis = 1 是以欄為單位 往右邊去 合併\n",
    "    else:\n",
    "        buy_in_every_month = pd.concat([buy_in_every_month, buy_last_one_month], axis=1)\n",
    "#第一層濾網先把前20名銷量篩出來\n",
    "top20 = buy_in_every_month.sum(axis=1).sort_values(ascending = False)[:20].index\n",
    "#第二層將單月完全沒有銷量的產品篩掉\n",
    "top10 = buy_in_every_month.loc[top20,:].dropna().index[:10]\n",
    "buy_in_every_month.loc[top10,:]"
   ]
  },
  {
   "cell_type": "code",
   "execution_count": null,
   "id": "9e3c64d8",
   "metadata": {},
   "outputs": [],
   "source": [
    "# 畫圖"
   ]
  },
  {
   "cell_type": "code",
   "execution_count": 96,
   "id": "6fa2dc2b",
   "metadata": {},
   "outputs": [
    {
     "data": {
      "image/png": "[encoded data removed]",
      "text/plain": [
       "<Figure size 432x288 with 1 Axes>"
      ]
     },
     "metadata": {
      "needs_background": "light"
     },
     "output_type": "display_data"
    }
   ],
   "source": [
    "import matplotlib.pyplot as plt\n",
    "# 製作figure  \n",
    "fig = plt.figure()\n",
    "#圖表的設定\n",
    "ax = fig.add_subplot(1, 1, 1)\n",
    "\n",
    "#散佈圖 rank 對price\n",
    "x = maindata['overall_mean']\n",
    "y = maindata['reviews_count']\n",
    "ax.scatter(x, y, s=150, alpha=0.4, linewidths=2.5, c='#AAAFFF', edgecolors='blue')\n",
    "plt.show() \n"
   ]
  },
  {
   "cell_type": "code",
   "execution_count": 86,
   "id": "d286166a",
   "metadata": {},
   "outputs": [],
   "source": [
    "# 處理outlier\n",
    "maindata = maindata[maindata['rank'] <= 0.8*10**7]\n",
    "\n"
   ]
  },
  {
   "cell_type": "code",
   "execution_count": null,
   "id": "cb1TpARPBXwn",
   "metadata": {
    "colab": {
     "base_uri": "https://localhost:8080/"
    },
    "id": "cb1TpARPBXwn",
    "outputId": "bfc0f382-8cd3-44c1-c184-032c567ff5a6"
   },
   "outputs": [
    {
     "name": "stdout",
     "output_type": "stream",
     "text": [
      "32892\n"
     ]
    },
    {
     "name": "stderr",
     "output_type": "stream",
     "text": [
      "/usr/local/lib/python3.7/dist-packages/ipykernel_launcher.py:10: SettingWithCopyWarning: \n",
      "A value is trying to be set on a copy of a slice from a DataFrame.\n",
      "Try using .loc[row_indexer,col_indexer] = value instead\n",
      "\n",
      "See the caveats in the documentation: https://pandas.pydata.org/pandas-docs/stable/user_guide/indexing.html#returning-a-view-versus-a-copy\n",
      "  # Remove the CWD from sys.path while we load stuff.\n"
     ]
    },
    {
     "name": "stdout",
     "output_type": "stream",
     "text": [
      "32488\n"
     ]
    }
   ],
   "source": [
    "# 將 metada 取出要用的資訊\n",
    "maindata = metadata[['rank','price','asin']]\n",
    "# 計算 asin 總共有多少種 確定不是唯一\n",
    "maindata['asin'].value_counts()\n",
    "print(len(maindata))\n",
    "# 直接把資料重複的丟掉\n",
    "maindata = maindata.drop_duplicates(subset=['asin'])\n",
    "# 處理 Rank的部分 將 rank 轉為數字\n",
    "rankseries = maindata['rank'].str.split(expand=True)\n",
    "maindata['rank'] = rankseries[0]\n",
    "maindata['rank'].replace(',','', regex=True, inplace=True)\n",
    "maindata['rank'] = maindata['rank'].apply(pd.to_numeric,errors='coerce')\n",
    "\n",
    "# 將產品DATA 跟　評價DATA 合併\n",
    "print(len(maindata))"
   ]
  },
  {
   "cell_type": "code",
   "execution_count": null,
   "id": "Jf-M_Og4LAbi",
   "metadata": {
    "id": "Jf-M_Og4LAbi"
   },
   "outputs": [],
   "source": [
    "# 把also_view 空白的資料拿掉後取出商品ID和also_view的欄位\n",
    "# alsoview = maindata[maindata['also_view'].astype(bool)][['also_view','asin']].to_dict('records')\n",
    "# 把review ID 進行 Group 去檢查 這些人同時買了些什麼?\n",
    "# ratings_trainings_reviewrID_asin = ratings_trainings[['reviewerID','asin']].groupby('reviewerID').agg(list).reset_index().to_dict('records')\n"
   ]
  },
  {
   "cell_type": "markdown",
   "id": "ZfKAJ6Tu8XEG",
   "metadata": {
    "id": "ZfKAJ6Tu8XEG"
   },
   "source": []
  },
  {
   "cell_type": "markdown",
   "id": "rSMJvwqF8k9H",
   "metadata": {
    "id": "rSMJvwqF8k9H"
   },
   "source": [
    "# 產生Asin 對應會一起買的商品"
   ]
  },
  {
   "cell_type": "code",
   "execution_count": null,
   "id": "Pom9IlJy84CC",
   "metadata": {
    "id": "Pom9IlJy84CC"
   },
   "outputs": [],
   "source": [
    "# 把also_view 空白的資料拿掉後取出商品ID和also_view的欄位\n",
    "alsobuy = maindata[maindata['also_buy'].astype(bool)][['also_buy','asin']].to_dict('records')\n",
    "# 建立 商品 對應到會一起買的商品ID\n",
    "alsobuy_by_asin = { item['asin']: item['also_buy'] for item in alsobuy }\n",
    "alsobuy_by_asin\n",
    "\n",
    "# user 傾向買銷售排名 較前面的商品(rank)\n",
    "# user 的價格屬性偏向 某個價位的商品(price)\n",
    "# user 之前買過的產品 發現不滿意想要找其他品牌的商品 (rating no good, also view)\n",
    "# user 之前買過的商品 發現還需要其他的商品 藉由查找 alsobuy 來尋找可能會要再購買的產品 \n",
    "\n",
    "# 銷量排名 rating (評價分數)\n",
    "# rank排名\n",
    "# 銷售時間最接近testing data (大家最近都買這些)\n",
    "# \n",
    "# \n",
    "\n",
    "\n",
    "# user 之前買過的商品 獲得 比較好的評價 預期會再買一次\n",
    "# users 是待推薦的測試資料集的users\n",
    "def buy_it_again(users):\n",
    "  for user in users:\n",
    "    # 藉由從testingdata 的 user 拿到 trainingdata使用者購買的商品, 這裡可能會拿到一個陣列\n",
    "    asin_ID_list = ratings_trainings_by_user[user]\n",
    "    # 查找asinID 對應到的 alsobuy 的商品, asin_ID_also_buy 也可能是一個陣列\n",
    "    for item in asin_ID_list:\n",
    "      asin_ID_also_buy = item[alsobuy_by_asin]\n"
   ]
  },
  {
   "cell_type": "code",
   "execution_count": null,
   "id": "a9813cca",
   "metadata": {
    "id": "a0nSDQD9pz2M"
   },
   "outputs": [],
   "source": [
    "def buy_it_again(users):\n",
    "  result = {}\n",
    "  \n",
    "  for user in users:\n",
    "    try:\n",
    "    # 藉由從testingdata 的 user 拿到 trainingdata使用者購買的商品, 這裡可能會拿到一個陣列\n",
    "      if user not in ratings_testings_by_user:\n",
    "        print(user,'not exist in trainings')\n",
    "        asin_ID_list = ratings_testings_by_user[user]\n",
    "\n",
    "      # 查找asinID 對應到的 alsobuy 的商品, asin_ID_also_buy 也可能是一個陣列\n",
    "      for item in asin_ID_list:\n",
    "        asin_ID_also_buy = item[alsobuy_by_asin]\n",
    "        result[user] = asin_ID_also_buy\n",
    "        print(result)\n",
    "    except Exception as e:\n",
    "      pass\n",
    "  return result"
   ]
  },
  {
   "cell_type": "code",
   "execution_count": null,
   "id": "r-twBANUqp-J",
   "metadata": {
    "colab": {
     "base_uri": "https://localhost:8080/"
    },
    "id": "r-twBANUqp-J",
    "outputId": "03881d8b-fbe2-4953-a8ef-ca7c7d7e0604"
   },
   "outputs": [
    {
     "data": {
      "text/plain": [
       "{}"
      ]
     },
     "execution_count": 40,
     "metadata": {},
     "output_type": "execute_result"
    }
   ],
   "source": [
    "buy_it_again(users)\n",
    "# ratings_testings_by_user['A100XQFWKQ30O2']"
   ]
  },
  {
   "cell_type": "markdown",
   "id": "BA_8vBtRFqvG",
   "metadata": {
    "id": "BA_8vBtRFqvG"
   },
   "source": [
    "## 產生推薦"
   ]
  },
  {
   "cell_type": "code",
   "execution_count": null,
   "id": "iFjcQXzfFqvH",
   "metadata": {
    "id": "iFjcQXzfFqvH",
    "outputId": "e84ab1ca-1719-4cdd-dc64-e8d94e928bfa"
   },
   "outputs": [
    {
     "data": {
      "text/plain": [
       "{}"
      ]
     },
     "execution_count": 6,
     "metadata": {},
     "output_type": "execute_result"
    }
   ],
   "source": [
    "def recommender(training_data, users=[], k=10):\n",
    "    '''\n",
    "    * training_data: dataframe 輸入的訓練資料集（2018-09-01 以前資料）\n",
    "    * users: [] 需要被推薦的使用者\n",
    "    * k: int 每個使用者需要推薦的商品數\n",
    "    * recommendations: dict\n",
    "      {\n",
    "          使用者一： [推薦商品一, 推薦商品二, ...],\n",
    "          使用者二： [...], ...\n",
    "      }\n",
    "    '''\n",
    "    recommendations = {}\n",
    "    ratings_testings_by_user = training_data.groupby('reviewerID').agg(list).reset_index()[['reviewerID', 'asin']].to_dict('records')\n",
    "    return recommendations\n",
    "\n",
    "\n",
    "ratings_by_user = recommender(ratings_trainings, users)\n",
    "ratings_by_user"
   ]
  },
  {
   "cell_type": "markdown",
   "id": "ZV-BkfvRFqvJ",
   "metadata": {
    "id": "ZV-BkfvRFqvJ"
   },
   "source": [
    "## 結果評估"
   ]
  },
  {
   "cell_type": "code",
   "execution_count": null,
   "id": "9mZejwkcFqvJ",
   "metadata": {
    "colab": {
     "base_uri": "https://localhost:8080/",
     "height": 202
    },
    "id": "9mZejwkcFqvJ",
    "outputId": "d20fda32-ba71-43e4-b872-ae5b73dded15"
   },
   "outputs": [
    {
     "ename": "NameError",
     "evalue": "ignored",
     "output_type": "error",
     "traceback": [
      "\u001b[0;31m---------------------------------------------------------------------------\u001b[0m",
      "\u001b[0;31mNameError\u001b[0m                                 Traceback (most recent call last)",
      "\u001b[0;32m<ipython-input-33-68ce7930ad98>\u001b[0m in \u001b[0;36m<module>\u001b[0;34m()\u001b[0m\n\u001b[1;32m     14\u001b[0m     \u001b[0;32mreturn\u001b[0m \u001b[0mscore\u001b[0m\u001b[0;34m\u001b[0m\u001b[0;34m\u001b[0m\u001b[0m\n\u001b[1;32m     15\u001b[0m \u001b[0;34m\u001b[0m\u001b[0m\n\u001b[0;32m---> 16\u001b[0;31m \u001b[0mevaluate\u001b[0m\u001b[0;34m(\u001b[0m\u001b[0mratings_testings_by_user\u001b[0m\u001b[0;34m,\u001b[0m \u001b[0mratings_by_user\u001b[0m\u001b[0;34m)\u001b[0m\u001b[0;34m\u001b[0m\u001b[0;34m\u001b[0m\u001b[0m\n\u001b[0m",
      "\u001b[0;31mNameError\u001b[0m: name 'ratings_by_user' is not defined"
     ]
    }
   ],
   "source": [
    "def evaluate(ratings_testings_by_user={}, ratings_by_user={}, method=None):\n",
    "    '''\n",
    "    * ratings_testings_by_user: dict 是測試資料裡 key:user value:商品ID 真實被購買的商品資料（2018-09-01 以後資料）\n",
    "    * ratings_by_user: dict 利用訓練資料學習的推薦商品\n",
    "    * method: str\n",
    "    * score: float\n",
    "    '''\n",
    "    total = 0\n",
    "    for d in ratings_testings_by_user:\n",
    "        if d in ratings_by_user:\n",
    "            total += len(set(ratings_by_user[d]) & set(ratings_testings_by_user[d]))\n",
    "\n",
    "    score = total / len(ratings_testings)\n",
    "    return score\n",
    "\n",
    "evaluate(ratings_testings_by_user, ratings_by_user)"
   ]
  },
  {
   "cell_type": "code",
   "execution_count": null,
   "id": "-BS2tbI1FqvK",
   "metadata": {
    "id": "-BS2tbI1FqvK"
   },
   "outputs": [],
   "source": []
  }
 ],
 "metadata": {
  "colab": {
   "include_colab_link": true,
   "name": "「sample.ipynb」的副本",
   "provenance": []
  },
  "kernelspec": {
   "display_name": "Python 3",
   "language": "python",
   "name": "python3"
  },
  "language_info": {
   "codemirror_mode": {
    "name": "ipython",
    "version": 3
   },
   "file_extension": ".py",
   "mimetype": "text/x-python",
   "name": "python",
   "nbconvert_exporter": "python",
   "pygments_lexer": "ipython3",
   "version": "3.8.8"
  }
 },
 "nbformat": 4,
 "nbformat_minor": 5
}
