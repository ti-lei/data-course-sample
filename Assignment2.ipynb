{
 "cells": [
  {
   "cell_type": "markdown",
   "id": "c6dcfa30",
   "metadata": {
    "colab_type": "text",
    "id": "view-in-github"
   },
   "source": [
    "<a href=\"https://colab.research.google.com/github/ti-lei/data-course-sample/blob/main/%E3%80%8Csample_ipynb%E3%80%8D%E7%9A%84%E5%89%AF%E6%9C%AC.ipynb\" target=\"_parent\"><img src=\"https://colab.research.google.com/assets/colab-badge.svg\" alt=\"Open In Colab\"/></a>"
   ]
  },
  {
   "cell_type": "markdown",
   "id": "pdyPzNuEFqum",
   "metadata": {
    "id": "pdyPzNuEFqum"
   },
   "source": [
    "# Sample Code"
   ]
  },
  {
   "cell_type": "markdown",
   "id": "Ye39cPjwFqu3",
   "metadata": {
    "id": "Ye39cPjwFqu3"
   },
   "source": [
    "## 載入資料"
   ]
  },
  {
   "cell_type": "code",
   "execution_count": 3,
   "id": "NPXk2XkjFqu4",
   "metadata": {
    "colab": {
     "base_uri": "https://localhost:8080/"
    },
    "id": "NPXk2XkjFqu4",
    "outputId": "4d827f3c-d13f-47ee-a027-3169cf2f305d"
   },
   "outputs": [
    {
     "name": "stdout",
     "output_type": "stream",
     "text": [
      "\n",
      "Saved under All_Beauty.csv\n",
      "\n",
      "Saved under meta_All_Beauty.json.gz\n"
     ]
    }
   ],
   "source": [
    "# windows (!python -m)跟 在 colab(!wget) 有差\n",
    "!wget http://deepyeti.ucsd.edu/jianmo/amazon/categoryFilesSmall/All_Beauty.csv\n",
    "!wget http://deepyeti.ucsd.edu/jianmo/amazon/metaFiles2/meta_All_Beauty.json.gz"
   ]
  },
  {
   "cell_type": "markdown",
   "id": "e3e8faf4",
   "metadata": {
    "id": "5MOpuiKgFquw"
   },
   "source": [
    "## 基礎建設"
   ]
  },
  {
   "cell_type": "code",
   "execution_count": 1,
   "id": "a9b723e2",
   "metadata": {
    "id": "anBluQXrFqux",
    "scrolled": true
   },
   "outputs": [
    {
     "name": "stderr",
     "output_type": "stream",
     "text": [
      "[nltk_data] Downloading package punkt to\n",
      "[nltk_data]     C:\\Users\\User01\\AppData\\Roaming\\nltk_data...\n",
      "[nltk_data]   Package punkt is already up-to-date!\n",
      "[nltk_data] Downloading package stopwords to\n",
      "[nltk_data]     C:\\Users\\User01\\AppData\\Roaming\\nltk_data...\n",
      "[nltk_data]   Package stopwords is already up-to-date!\n"
     ]
    }
   ],
   "source": [
    "import pandas as pd\n",
    "import gzip, json\n",
    "\n",
    "def parse(path):\n",
    "    g = gzip.open(path, 'rb')\n",
    "    for l in g:\n",
    "        yield json.loads(l)\n",
    "\n",
    "def getDF(path):\n",
    "    i = 0\n",
    "    df = {}\n",
    "    for d in parse(path):\n",
    "        df[i] = d\n",
    "        i += 1\n",
    "    return pd.DataFrame.from_dict(df, orient='index')\n",
    "\n",
    "from sklearn.cluster import AgglomerativeClustering\n",
    "from sklearn.feature_extraction.text import TfidfVectorizer\n",
    "# from yellowbrick.cluster import KElbowVisualizer\n",
    "from sklearn.feature_extraction.text import CountVectorizer\n",
    "import nltk\n",
    "nltk.download('punkt')\n",
    "nltk.download('stopwords')\n",
    "import math\n",
    "import string\n",
    "from nltk.corpus import stopwords\n",
    "from collections import Counter\n",
    "from nltk.stem.porter import *\n",
    "metadata = getDF('/content/meta_All_Beauty.json.gz')\n",
    "# 原始資料沒有 header 另外命名給他\n",
    "ratings = pd.read_csv('/content/All_Beauty.csv', names=['asin', 'reviewerID', 'overall', 'unixReviewTime'], header=None)\n",
    "# 輸出metada 到csv\n",
    "# metadata.to_csv('metada.csv',index=False)"
   ]
  },
  {
   "cell_type": "markdown",
   "id": "cb74feee",
   "metadata": {
    "id": "0amTkUQ9FqvA"
   },
   "source": [
    "## 資料整理"
   ]
  },
  {
   "cell_type": "code",
   "execution_count": 2,
   "id": "9df62276",
   "metadata": {
    "id": "ZGTlYMY-FqvC"
   },
   "outputs": [],
   "source": [
    "ratings['DATE'] = pd.to_datetime(ratings['unixReviewTime'], unit='s')\n",
    "# 把 unixReviewTime drop\n",
    "ratings.drop(columns=['unixReviewTime'],inplace = True)"
   ]
  },
  {
   "cell_type": "markdown",
   "id": "5ecdcd7e",
   "metadata": {
    "id": "xYfwlE-XFqvE"
   },
   "source": [
    "## 資料切分"
   ]
  },
  {
   "cell_type": "code",
   "execution_count": 3,
   "id": "84fd4ba6",
   "metadata": {
    "id": "Kxvy7g4nFqvE"
   },
   "outputs": [],
   "source": [
    "ratings_trainings = ratings[\n",
    "    (ratings['DATE'] < '2018-09-01')\n",
    "]\n",
    "ratings_testings = ratings[\n",
    "    (ratings['DATE'] >= '2018-09-01') & \n",
    "    (ratings['DATE'] <= '2018-09-30')\n",
    "]\n",
    "# agg(list)會把所有除了reviewerID的欄位用陣列包住\n",
    "# to_dict 會把 dataframe 轉成字典(一列一個字典) 並用 陣列包住\n",
    "ratings_testings_by_user = ratings_testings.groupby('reviewerID').agg(list).reset_index()[['reviewerID', 'asin']].to_dict('records')\n",
    "ratings_trainings_by_user = ratings_trainings.groupby('reviewerID').agg(list).reset_index()[['reviewerID', 'asin']].to_dict('records')\n",
    "# 把 [{'asin': ['B01DKQAXC0'], 'reviewerID': 'A100XQFWKQ30O2'},..] 變成 {A100XQFWKQ30O2:['B01DKQAXC0'],...}\n",
    "# key: reviwerID value: asin\n",
    "ratings_testings_by_user = { rating['reviewerID']: rating['asin'] for rating in ratings_testings_by_user }\n",
    "ratings_trainings_by_user = { rating['reviewerID']: rating['asin'] for rating in ratings_trainings_by_user }\n",
    "\n",
    "# users:[user1,user2....]\n",
    "training_users = list(ratings_trainings_by_user.keys())\n",
    "testing_users = list(ratings_testings_by_user.keys())\n",
    "\n",
    "# 應該要測試 users 在測試的資料裡 是否有跟 訓練的資料重疊 如果沒有的話根本不知道其消費行為 根本隨便推薦:\n"
   ]
  },
  {
   "cell_type": "markdown",
   "id": "0ec556ae",
   "metadata": {},
   "source": [
    "# 文字處理"
   ]
  },
  {
   "cell_type": "code",
   "execution_count": 4,
   "id": "75567507",
   "metadata": {},
   "outputs": [],
   "source": [
    "table = str.maketrans('', '', string.punctuation)\n",
    "porter = PorterStemmer()\n",
    "\n",
    "def remove_redudant(text):\n",
    "    # 先把 list 解開合在一起變成string\n",
    "    text = ''.join(text)\n",
    "    # 把文字拆開來\n",
    "    words = text.split()\n",
    "    # 把文字對表格做相對應maping去除掉符號並包起來\n",
    "    stripped = [w.translate(table) for w in words]\n",
    "    # 去除非全部是英文的文字\n",
    "    # remove remaining tokens that are not alphabetic\n",
    "    words = [word for word in stripped if word.isalpha()]\n",
    "    # 去除只有一字的狀況\n",
    "    words = [word for word in words if len(word)!= 1]\n",
    "    # 篩掉 stop words\n",
    "    stripped = [w for w in words if w not in stopwords.words('english')]\n",
    "    # 正規化字串變成小寫字體\n",
    "    #正規化動詞\n",
    "    stemmed = [porter.stem(w) for w in stripped]\n",
    "#     print(stemmed)\n",
    "    return ' '.join(stemmed)\n",
    "\n",
    "# metadata['clean_description'] = \n",
    "metadata['clean_description'] = metadata['description'].apply(lambda x: remove_redudant(x))\n",
    "metadata['clean_tilte'] = metadata['title'].apply(lambda x: remove_redudant(x))"
   ]
  },
  {
   "cell_type": "code",
   "execution_count": 6,
   "id": "19d89f21",
   "metadata": {
    "colab": {
     "base_uri": "https://localhost:8080/",
     "height": 206
    },
    "id": "oRd9zfRZFqu-",
    "outputId": "7a45852e-3ea5-4881-b90f-a4c7036f9cf5"
   },
   "outputs": [],
   "source": [
    "from sklearn.feature_extraction.text import TfidfVectorizer\n",
    "# 計算商品用標題所表示的 tfidf 矩陣\n",
    "# df = metadata.drop_duplicates('title')\n",
    "df = metadata.drop_duplicates('asin').reset_index()\n",
    "tf = TfidfVectorizer(analyzer='word')\n",
    "tfidf_matrix = tf.fit_transform(df['clean_description'])"
   ]
  },
  {
   "cell_type": "markdown",
   "id": "81cc679a",
   "metadata": {},
   "source": [
    "# 計算相似度矩陣"
   ]
  },
  {
   "cell_type": "code",
   "execution_count": 15,
   "id": "94181989",
   "metadata": {},
   "outputs": [],
   "source": [
    "\n",
    "from sklearn.metrics.pairwise import cosine_similarity\n",
    "similarity_matrix = cosine_similarity(tfidf_matrix)\n",
    "\n",
    "mapping = pd.Series(df.index,index = df['clean_description'])\n",
    "def recommend_item(item_input, k=2):\n",
    "    try:\n",
    "        item_index = mapping[item_input]\n",
    "        similarity_score = list(enumerate(similarity_matrix[item_index]))\n",
    "        similarity_score = sorted(similarity_score, key=lambda x: x[1], reverse=True)\n",
    "        similarity_score = similarity_score[:k]\n",
    "        item_indices = [i[0] for i in similarity_score]\n",
    "        return (df['asin'].iloc[item_indices].tolist())\n",
    "    except:\n",
    "        return []"
   ]
  },
  {
   "cell_type": "markdown",
   "id": "66764b25",
   "metadata": {},
   "source": [
    "# Rule Based"
   ]
  },
  {
   "cell_type": "code",
   "execution_count": 8,
   "id": "15e7a4c6",
   "metadata": {},
   "outputs": [],
   "source": [
    "ratings_training_rulebased = ratings[\n",
    "(ratings['DATE'] >= '2018-06-01') & \n",
    "(ratings['DATE'] <= '2018-09-01')\n",
    "]\n",
    "ratings_compare = ratings_training_rulebased.groupby(['asin'], as_index=False).size()\n",
    "\n",
    "## method 5: nearly 3_months: reviewer_count\n",
    "recommand_rulebased = ratings_compare.sort_values(by='size',ascending=False)['asin'][:15].to_list()\n",
    "# rating_sorting"
   ]
  },
  {
   "cell_type": "markdown",
   "id": "7f3b8bb0",
   "metadata": {},
   "source": [
    "# 將list展開的function"
   ]
  },
  {
   "cell_type": "code",
   "execution_count": 9,
   "id": "29b73b63",
   "metadata": {},
   "outputs": [],
   "source": [
    "import functools\n",
    "import operator\n",
    "# Transform irregular 2D list into a regular one.\n",
    "def transform(nested_list):\n",
    "    regular_list = []\n",
    "    for ele in nested_list:\n",
    "        if type(ele) is list:\n",
    "            regular_list.append(ele)\n",
    "        else:\n",
    "            regular_list.append([ele])\n",
    "    return regular_list\n"
   ]
  },
  {
   "cell_type": "markdown",
   "id": "4cc589cf",
   "metadata": {},
   "source": [
    "# 建立 content based的推薦"
   ]
  },
  {
   "cell_type": "code",
   "execution_count": 16,
   "id": "9d4ba002",
   "metadata": {
    "scrolled": true
   },
   "outputs": [],
   "source": [
    "import math\n",
    "import itertools\n",
    "# 放入要推薦的產品 到字典裡\n",
    "recommend = {}\n",
    "#從測試集找到之前在訓練集使用者購買的商品\n",
    "cosine_recommend_num = 10\n",
    "for user in testing_users:\n",
    "    if user in training_users:\n",
    "        \n",
    "        num_of_product = len(ratings_trainings_by_user[user])\n",
    "        # 使用者之前只有購買一個商品\n",
    "        if num_of_product==1:\n",
    "            asin = ''.join(ratings_trainings_by_user[user])\n",
    "#             print(asin)\n",
    "            recommend.update({user:recommend_item(asin,k=10)})\n",
    "            # 剩下的商品用 ruledbased 補上\n",
    "            recommend[user].append(recommand_rulebased[:5])\n",
    "            \n",
    "\n",
    "        # 當使用者之前購買的商品超過一個\n",
    "        else:\n",
    "            # 超過一個的狀況 每個商品推薦相似的數量 要把 預計要推薦的商品 除以總購買商品的數量\n",
    "            # 假設之前有買過3個商品 則 每個商品的推薦相似商品數就只能有3個 floor(cosine_recommend_num/3)\n",
    "            num_of_recommend = math.floor(cosine_recommend_num/num_of_product)\n",
    "            for asin in ratings_trainings_by_user[user]:\n",
    "                # 先設定default 這樣在第一次回圈再跑的時候 在取值時就不會找不到key\n",
    "                recommend.setdefault(user, [])\n",
    "                recommend[user].append(recommend_item(asin,num_of_recommend))\n",
    "                \n",
    "            recommend[user].append(recommand_rulebased[:15-(num_of_recommend*num_of_product)])\n",
    "        # 把字典裡的list 都拆開來\n",
    "        # https://stackabuse.com/python-how-to-flatten-list-of-lists/\n",
    "        recommend[user] = functools.reduce(operator.iconcat, transform(recommend[user]), [])\n",
    "#     如果user不是在testing data 裡就直接使用之前rubased的推薦\n",
    "#     參考之前同學的最好的推薦是使用最接近的一個月推薦\n",
    "    else:\n",
    "        recommend.update({user:recommand_rulebased})\n",
    "# recommend_item('B00015XAQA')"
   ]
  },
  {
   "cell_type": "markdown",
   "id": "BA_8vBtRFqvG",
   "metadata": {
    "id": "BA_8vBtRFqvG"
   },
   "source": [
    "## 產生推薦"
   ]
  },
  {
   "cell_type": "code",
   "execution_count": 18,
   "id": "iFjcQXzfFqvH",
   "metadata": {
    "id": "iFjcQXzfFqvH",
    "outputId": "e84ab1ca-1719-4cdd-dc64-e8d94e928bfa"
   },
   "outputs": [],
   "source": [
    "def recommender(users):\n",
    "\n",
    "    recommendations = {users[i]:recommand_rulebased for i in range(len(users))}\n",
    "    return recommendations\n",
    "\n",
    "\n",
    "ratings_by_user = recommender( testing_users)"
   ]
  },
  {
   "cell_type": "markdown",
   "id": "ZV-BkfvRFqvJ",
   "metadata": {
    "id": "ZV-BkfvRFqvJ"
   },
   "source": [
    "## 結果評估"
   ]
  },
  {
   "cell_type": "code",
   "execution_count": 25,
   "id": "9mZejwkcFqvJ",
   "metadata": {
    "colab": {
     "base_uri": "https://localhost:8080/",
     "height": 202
    },
    "id": "9mZejwkcFqvJ",
    "outputId": "d20fda32-ba71-43e4-b872-ae5b73dded15"
   },
   "outputs": [
    {
     "name": "stdout",
     "output_type": "stream",
     "text": [
      "0.15423728813559323\n",
      "0.15593220338983052\n"
     ]
    }
   ],
   "source": [
    "def evaluate(ratings_testings_by_user={}, ratings_by_user={}, method=None):\n",
    "    '''\n",
    "    * ratings_testings_by_user: dict 是測試資料裡 key:user value:商品ID 真實被購買的商品資料（2018-09-01 以後資料）\n",
    "    * ratings_by_user: dict 利用訓練資料學習的推薦商品\n",
    "    * method: str\n",
    "    * score: float\n",
    "    '''\n",
    "    total = 0\n",
    "    for d in ratings_testings_by_user:\n",
    "        if d in ratings_by_user:\n",
    "            total += len(set(ratings_by_user[d]) & set(ratings_testings_by_user[d]))\n",
    "\n",
    "    score = total / len(ratings_testings)\n",
    "    return score\n",
    "\n",
    "# 僅使用 rule_based 的推薦\n",
    "print(evaluate(ratings_by_user, ratings_testings_by_user))\n",
    "# 使用綜合的推薦\n",
    "print(evaluate(recommend, ratings_testings_by_user))"
   ]
  }
 ],
 "metadata": {
  "colab": {
   "include_colab_link": true,
   "name": "「sample.ipynb」的副本",
   "provenance": []
  },
  "kernelspec": {
   "display_name": "Python 3",
   "language": "python",
   "name": "python3"
  },
  "language_info": {
   "codemirror_mode": {
    "name": "ipython",
    "version": 3
   },
   "file_extension": ".py",
   "mimetype": "text/x-python",
   "name": "python",
   "nbconvert_exporter": "python",
   "pygments_lexer": "ipython3",
   "version": "3.8.8"
  }
 },
 "nbformat": 4,
 "nbformat_minor": 5
}
