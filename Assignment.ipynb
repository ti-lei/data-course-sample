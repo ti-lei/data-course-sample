{
 "cells": [
  {
   "cell_type": "markdown",
   "id": "c6dcfa30",
   "metadata": {
    "colab_type": "text",
    "id": "view-in-github"
   },
   "source": [
    "<a href=\"https://colab.research.google.com/github/ti-lei/data-course-sample/blob/main/%E3%80%8Csample_ipynb%E3%80%8D%E7%9A%84%E5%89%AF%E6%9C%AC.ipynb\" target=\"_parent\"><img src=\"https://colab.research.google.com/assets/colab-badge.svg\" alt=\"Open In Colab\"/></a>"
   ]
  },
  {
   "cell_type": "markdown",
   "id": "pdyPzNuEFqum",
   "metadata": {
    "id": "pdyPzNuEFqum"
   },
   "source": [
    "# Sample Code"
   ]
  },
  {
   "cell_type": "markdown",
   "id": "5MOpuiKgFquw",
   "metadata": {
    "id": "5MOpuiKgFquw"
   },
   "source": [
    "## 基礎建設"
   ]
  },
  {
   "cell_type": "code",
   "execution_count": 1,
   "id": "anBluQXrFqux",
   "metadata": {
    "id": "anBluQXrFqux",
    "scrolled": true
   },
   "outputs": [],
   "source": [
    "# test\n",
    "import pandas as pd\n",
    "import gzip, json\n",
    "\n",
    "def parse(path):\n",
    "    g = gzip.open(path, 'rb')\n",
    "    for l in g:\n",
    "        yield json.loads(l)\n",
    "\n",
    "def getDF(path):\n",
    "    i = 0\n",
    "    df = {}\n",
    "    for d in parse(path):\n",
    "        df[i] = d\n",
    "        i += 1\n",
    "    return pd.DataFrame.from_dict(df, orient='index')"
   ]
  },
  {
   "cell_type": "markdown",
   "id": "Ye39cPjwFqu3",
   "metadata": {
    "id": "Ye39cPjwFqu3"
   },
   "source": [
    "## 載入資料"
   ]
  },
  {
   "cell_type": "code",
   "execution_count": 3,
   "id": "NPXk2XkjFqu4",
   "metadata": {
    "colab": {
     "base_uri": "https://localhost:8080/"
    },
    "id": "NPXk2XkjFqu4",
    "outputId": "4d827f3c-d13f-47ee-a027-3169cf2f305d",
    "scrolled": true
   },
   "outputs": [
    {
     "name": "stdout",
     "output_type": "stream",
     "text": [
      "\n",
      "Saved under All_Beauty.csv\n",
      "\n",
      "Saved under meta_All_Beauty.json.gz\n"
     ]
    }
   ],
   "source": [
    "# windows (!python -m)跟 在 colab(!wget) 有差\n",
    "!python -m wget http://deepyeti.ucsd.edu/jianmo/amazon/categoryFilesSmall/All_Beauty.csv\n",
    "!python -m wget http://deepyeti.ucsd.edu/jianmo/amazon/metaFiles2/meta_All_Beauty.json.gz"
   ]
  },
  {
   "cell_type": "code",
   "execution_count": 331,
   "id": "1pLIeh5jFqu6",
   "metadata": {
    "id": "1pLIeh5jFqu6"
   },
   "outputs": [],
   "source": [
    "metadata = getDF('meta_All_Beauty.json.gz')\n",
    "# 原始資料沒有 header 另外命名給他\n",
    "ratings = pd.read_csv('All_Beauty.csv', names=['asin', 'reviewerID', 'overall', 'unixReviewTime'], header=None)\n",
    "# 輸出metada 到csv\n",
    "# metadata.to_csv('metada.csv',index=False)"
   ]
  },
  {
   "cell_type": "code",
   "execution_count": 332,
   "id": "oRd9zfRZFqu-",
   "metadata": {
    "colab": {
     "base_uri": "https://localhost:8080/",
     "height": 206
    },
    "id": "oRd9zfRZFqu-",
    "outputId": "7a45852e-3ea5-4881-b90f-a4c7036f9cf5"
   },
   "outputs": [],
   "source": [
    "ratings.head()\n",
    "# 將 metada 取出要用的資訊\n",
    "maindata = metadata[['rank','price','asin']]\n",
    "# 直接把重複商品的資料丟掉\n",
    "maindata = maindata.drop_duplicates(subset=['asin'])"
   ]
  },
  {
   "cell_type": "markdown",
   "id": "0amTkUQ9FqvA",
   "metadata": {
    "id": "0amTkUQ9FqvA"
   },
   "source": [
    "## 資料整理"
   ]
  },
  {
   "cell_type": "code",
   "execution_count": 333,
   "id": "ZGTlYMY-FqvC",
   "metadata": {
    "id": "ZGTlYMY-FqvC"
   },
   "outputs": [],
   "source": [
    "ratings['DATE'] = pd.to_datetime(ratings['unixReviewTime'], unit='s')\n",
    "# 把 unixReviewTime drop\n",
    "ratings.drop(columns=['unixReviewTime'],inplace = True)"
   ]
  },
  {
   "cell_type": "markdown",
   "id": "xYfwlE-XFqvE",
   "metadata": {
    "id": "xYfwlE-XFqvE"
   },
   "source": [
    "## 資料切分"
   ]
  },
  {
   "cell_type": "code",
   "execution_count": 334,
   "id": "Kxvy7g4nFqvE",
   "metadata": {
    "id": "Kxvy7g4nFqvE"
   },
   "outputs": [],
   "source": [
    "ratings_trainings = ratings[\n",
    "    (ratings['DATE'] < '2018-09-01')\n",
    "]\n",
    "ratings_testings = ratings[\n",
    "    (ratings['DATE'] >= '2018-09-01') & \n",
    "    (ratings['DATE'] <= '2018-09-30')\n",
    "]\n",
    "# agg(list)會把所有除了reviewerID的欄位用陣列包住\n",
    "# to_dict 會把 dataframe 轉成字典(一列一個字典) 並用 陣列包住\n",
    "ratings_testings_by_user = ratings_testings.groupby('reviewerID').agg(list).reset_index()[['reviewerID', 'asin']].to_dict('records')\n",
    "\n",
    "# 把 [{'asin': ['B01DKQAXC0'], 'reviewerID': 'A100XQFWKQ30O2'},..] 變成 {A100XQFWKQ30O2:['B01DKQAXC0'],...}\n",
    "# key: reviwerID value: asin\n",
    "ratings_testings_by_user = { rating['reviewerID']: rating['asin'] for rating in ratings_testings_by_user }\n",
    "\n",
    "# users:[user1,user2....]\n",
    "users = list(ratings_testings_by_user.keys())\n",
    "\n",
    "# 應該要測試 users 在測試的資料裡 是否有跟 訓練的資料重疊 如果沒有的話根本不知道其消費行為 根本隨便推薦:\n"
   ]
  },
  {
   "cell_type": "markdown",
   "id": "65b294a8",
   "metadata": {},
   "source": [
    "# 驗證 Training data 的消費者有沒有在 Training data 出現"
   ]
  },
  {
   "cell_type": "code",
   "execution_count": 335,
   "id": "0e936ef3",
   "metadata": {
    "scrolled": true
   },
   "outputs": [
    {
     "data": {
      "text/plain": [
       "38"
      ]
     },
     "execution_count": 335,
     "metadata": {},
     "output_type": "execute_result"
    }
   ],
   "source": [
    "\n",
    "training_users = ratings_trainings['reviewerID'].drop_duplicates().to_list()\n",
    "overlap = 0\n",
    "for user in users:\n",
    "    if user in training_users:\n",
    "        overlap += 1\n",
    "overlap"
   ]
  },
  {
   "cell_type": "markdown",
   "id": "f82ef011",
   "metadata": {},
   "source": [
    "# maindata資料整理"
   ]
  },
  {
   "cell_type": "code",
   "execution_count": 336,
   "id": "2913d682",
   "metadata": {
    "scrolled": true
   },
   "outputs": [
    {
     "name": "stderr",
     "output_type": "stream",
     "text": [
      "<ipython-input-336-574165ba11ea>:16: UserWarning: Boolean Series key will be reindexed to match DataFrame index.\n",
      "  buy_last_one_month = ratings_trainings[\n"
     ]
    },
    {
     "data": {
      "text/html": [
       "<div>\n",
       "<style scoped>\n",
       "    .dataframe tbody tr th:only-of-type {\n",
       "        vertical-align: middle;\n",
       "    }\n",
       "\n",
       "    .dataframe tbody tr th {\n",
       "        vertical-align: top;\n",
       "    }\n",
       "\n",
       "    .dataframe thead th {\n",
       "        text-align: right;\n",
       "    }\n",
       "</style>\n",
       "<table border=\"1\" class=\"dataframe\">\n",
       "  <thead>\n",
       "    <tr style=\"text-align: right;\">\n",
       "      <th></th>\n",
       "      <th>a</th>\n",
       "      <th>b</th>\n",
       "      <th>c</th>\n",
       "      <th>d</th>\n",
       "      <th>e</th>\n",
       "      <th>f</th>\n",
       "    </tr>\n",
       "  </thead>\n",
       "  <tbody>\n",
       "    <tr>\n",
       "      <th>B01DKQAXC0</th>\n",
       "      <td>193.0</td>\n",
       "      <td>262.0</td>\n",
       "      <td>375.0</td>\n",
       "      <td>428.0</td>\n",
       "      <td>520.0</td>\n",
       "      <td>438.0</td>\n",
       "    </tr>\n",
       "    <tr>\n",
       "      <th>B00W259T7G</th>\n",
       "      <td>50.0</td>\n",
       "      <td>76.0</td>\n",
       "      <td>138.0</td>\n",
       "      <td>232.0</td>\n",
       "      <td>260.0</td>\n",
       "      <td>294.0</td>\n",
       "    </tr>\n",
       "    <tr>\n",
       "      <th>B0195R1FT8</th>\n",
       "      <td>84.0</td>\n",
       "      <td>144.0</td>\n",
       "      <td>156.0</td>\n",
       "      <td>72.0</td>\n",
       "      <td>100.0</td>\n",
       "      <td>138.0</td>\n",
       "    </tr>\n",
       "    <tr>\n",
       "      <th>B012Z7IHHI</th>\n",
       "      <td>19.0</td>\n",
       "      <td>50.0</td>\n",
       "      <td>78.0</td>\n",
       "      <td>112.0</td>\n",
       "      <td>100.0</td>\n",
       "      <td>150.0</td>\n",
       "    </tr>\n",
       "    <tr>\n",
       "      <th>B013XKHA4M</th>\n",
       "      <td>15.0</td>\n",
       "      <td>28.0</td>\n",
       "      <td>36.0</td>\n",
       "      <td>76.0</td>\n",
       "      <td>85.0</td>\n",
       "      <td>168.0</td>\n",
       "    </tr>\n",
       "    <tr>\n",
       "      <th>B01AVJCDYA</th>\n",
       "      <td>4.0</td>\n",
       "      <td>10.0</td>\n",
       "      <td>36.0</td>\n",
       "      <td>60.0</td>\n",
       "      <td>100.0</td>\n",
       "      <td>132.0</td>\n",
       "    </tr>\n",
       "    <tr>\n",
       "      <th>B00JVU3K9I</th>\n",
       "      <td>6.0</td>\n",
       "      <td>8.0</td>\n",
       "      <td>66.0</td>\n",
       "      <td>96.0</td>\n",
       "      <td>150.0</td>\n",
       "      <td>6.0</td>\n",
       "    </tr>\n",
       "    <tr>\n",
       "      <th>B018WCT01C</th>\n",
       "      <td>16.0</td>\n",
       "      <td>52.0</td>\n",
       "      <td>69.0</td>\n",
       "      <td>36.0</td>\n",
       "      <td>75.0</td>\n",
       "      <td>72.0</td>\n",
       "    </tr>\n",
       "    <tr>\n",
       "      <th>B0168SXRR0</th>\n",
       "      <td>7.0</td>\n",
       "      <td>20.0</td>\n",
       "      <td>39.0</td>\n",
       "      <td>56.0</td>\n",
       "      <td>85.0</td>\n",
       "      <td>72.0</td>\n",
       "    </tr>\n",
       "    <tr>\n",
       "      <th>B00X4DKZKU</th>\n",
       "      <td>5.0</td>\n",
       "      <td>26.0</td>\n",
       "      <td>36.0</td>\n",
       "      <td>60.0</td>\n",
       "      <td>70.0</td>\n",
       "      <td>60.0</td>\n",
       "    </tr>\n",
       "  </tbody>\n",
       "</table>\n",
       "</div>"
      ],
      "text/plain": [
       "                a      b      c      d      e      f\n",
       "B01DKQAXC0  193.0  262.0  375.0  428.0  520.0  438.0\n",
       "B00W259T7G   50.0   76.0  138.0  232.0  260.0  294.0\n",
       "B0195R1FT8   84.0  144.0  156.0   72.0  100.0  138.0\n",
       "B012Z7IHHI   19.0   50.0   78.0  112.0  100.0  150.0\n",
       "B013XKHA4M   15.0   28.0   36.0   76.0   85.0  168.0\n",
       "B01AVJCDYA    4.0   10.0   36.0   60.0  100.0  132.0\n",
       "B00JVU3K9I    6.0    8.0   66.0   96.0  150.0    6.0\n",
       "B018WCT01C   16.0   52.0   69.0   36.0   75.0   72.0\n",
       "B0168SXRR0    7.0   20.0   39.0   56.0   85.0   72.0\n",
       "B00X4DKZKU    5.0   26.0   36.0   60.0   70.0   60.0"
      ]
     },
     "execution_count": 336,
     "metadata": {},
     "output_type": "execute_result"
    }
   ],
   "source": [
    "from datetime import datetime\n",
    "from dateutil.relativedelta import *\n",
    "\n",
    "# 紀錄每個時間間格購買數量\n",
    "buy_in_every_month = pd.DataFrame()\n",
    "#起始時間\n",
    "basic_date = datetime(2018, 3, 1)\n",
    "# 預計要推薦的商品個數\n",
    "k = 10\n",
    "for i in range(6):\n",
    "    # 開始時間\n",
    "    start_date = basic_date+relativedelta(months=+i)\n",
    "    # 結束時間\n",
    "    end_date = basic_date+relativedelta(months=+i+1)\n",
    "\n",
    "    buy_last_one_month = ratings_trainings[\n",
    "        (ratings['DATE'] < end_date.strftime(\"%Y-%m-%d\")) & (ratings['DATE'] > start_date.strftime(\"%Y-%m-%d\"))\n",
    "    ]\n",
    "    buy_last_one_month = buy_last_one_month.groupby(by=['asin']).size()\n",
    "    #數據加權 越接近資料時間的終點加權越重\n",
    "    weight = i + 1\n",
    "    buy_last_one_month = weight * buy_last_one_month\n",
    "    #  第一次不能用 inner join 不然dataframe是空的\n",
    "    if i== 0:\n",
    "        buy_in_every_month = pd.concat([buy_in_every_month, buy_last_one_month])\n",
    "    # axis = 1 是以欄為單位 往右邊去 合併\n",
    "    else:\n",
    "        buy_in_every_month = pd.concat([buy_in_every_month, buy_last_one_month], axis=1)\n",
    "buy_in_every_month.columns = ['a','b','c','d','e','f']\n",
    "#第一層濾網先把前20名銷量篩出來\n",
    "top50 = buy_in_every_month.sum(axis=1).sort_values(ascending = False)[:50].index\n",
    "#第二層將前三個月完全沒有銷量的產品篩掉\n",
    "target = buy_in_every_month.loc[top50,:].dropna(subset=['d', 'e','f']).index[:k]\n",
    "buy_in_every_month.loc[target,:]"
   ]
  },
  {
   "cell_type": "code",
   "execution_count": 338,
   "id": "81b2f41f",
   "metadata": {},
   "outputs": [
    {
     "data": {
      "text/html": [
       "<div>\n",
       "<style scoped>\n",
       "    .dataframe tbody tr th:only-of-type {\n",
       "        vertical-align: middle;\n",
       "    }\n",
       "\n",
       "    .dataframe tbody tr th {\n",
       "        vertical-align: top;\n",
       "    }\n",
       "\n",
       "    .dataframe thead th {\n",
       "        text-align: right;\n",
       "    }\n",
       "</style>\n",
       "<table border=\"1\" class=\"dataframe\">\n",
       "  <thead>\n",
       "    <tr style=\"text-align: right;\">\n",
       "      <th></th>\n",
       "      <th>a</th>\n",
       "      <th>b</th>\n",
       "      <th>c</th>\n",
       "      <th>d</th>\n",
       "      <th>e</th>\n",
       "      <th>f</th>\n",
       "    </tr>\n",
       "  </thead>\n",
       "  <tbody>\n",
       "    <tr>\n",
       "      <th>B01DKQAXC0</th>\n",
       "      <td>193.0</td>\n",
       "      <td>262.0</td>\n",
       "      <td>375.0</td>\n",
       "      <td>428.0</td>\n",
       "      <td>520.0</td>\n",
       "      <td>438.0</td>\n",
       "    </tr>\n",
       "    <tr>\n",
       "      <th>B00W259T7G</th>\n",
       "      <td>50.0</td>\n",
       "      <td>76.0</td>\n",
       "      <td>138.0</td>\n",
       "      <td>232.0</td>\n",
       "      <td>260.0</td>\n",
       "      <td>294.0</td>\n",
       "    </tr>\n",
       "    <tr>\n",
       "      <th>B0195R1FT8</th>\n",
       "      <td>84.0</td>\n",
       "      <td>144.0</td>\n",
       "      <td>156.0</td>\n",
       "      <td>72.0</td>\n",
       "      <td>100.0</td>\n",
       "      <td>138.0</td>\n",
       "    </tr>\n",
       "    <tr>\n",
       "      <th>B006IB5T4W</th>\n",
       "      <td>91.0</td>\n",
       "      <td>156.0</td>\n",
       "      <td>186.0</td>\n",
       "      <td>228.0</td>\n",
       "      <td>NaN</td>\n",
       "      <td>NaN</td>\n",
       "    </tr>\n",
       "    <tr>\n",
       "      <th>B012Z7IHHI</th>\n",
       "      <td>19.0</td>\n",
       "      <td>50.0</td>\n",
       "      <td>78.0</td>\n",
       "      <td>112.0</td>\n",
       "      <td>100.0</td>\n",
       "      <td>150.0</td>\n",
       "    </tr>\n",
       "    <tr>\n",
       "      <th>B013XKHA4M</th>\n",
       "      <td>15.0</td>\n",
       "      <td>28.0</td>\n",
       "      <td>36.0</td>\n",
       "      <td>76.0</td>\n",
       "      <td>85.0</td>\n",
       "      <td>168.0</td>\n",
       "    </tr>\n",
       "    <tr>\n",
       "      <th>B001QY8QXM</th>\n",
       "      <td>55.0</td>\n",
       "      <td>114.0</td>\n",
       "      <td>126.0</td>\n",
       "      <td>64.0</td>\n",
       "      <td>NaN</td>\n",
       "      <td>NaN</td>\n",
       "    </tr>\n",
       "    <tr>\n",
       "      <th>B0012Y0ZG2</th>\n",
       "      <td>36.0</td>\n",
       "      <td>164.0</td>\n",
       "      <td>144.0</td>\n",
       "      <td>NaN</td>\n",
       "      <td>NaN</td>\n",
       "      <td>NaN</td>\n",
       "    </tr>\n",
       "    <tr>\n",
       "      <th>B01AVJCDYA</th>\n",
       "      <td>4.0</td>\n",
       "      <td>10.0</td>\n",
       "      <td>36.0</td>\n",
       "      <td>60.0</td>\n",
       "      <td>100.0</td>\n",
       "      <td>132.0</td>\n",
       "    </tr>\n",
       "    <tr>\n",
       "      <th>B00JVU3K9I</th>\n",
       "      <td>6.0</td>\n",
       "      <td>8.0</td>\n",
       "      <td>66.0</td>\n",
       "      <td>96.0</td>\n",
       "      <td>150.0</td>\n",
       "      <td>6.0</td>\n",
       "    </tr>\n",
       "  </tbody>\n",
       "</table>\n",
       "</div>"
      ],
      "text/plain": [
       "                a      b      c      d      e      f\n",
       "B01DKQAXC0  193.0  262.0  375.0  428.0  520.0  438.0\n",
       "B00W259T7G   50.0   76.0  138.0  232.0  260.0  294.0\n",
       "B0195R1FT8   84.0  144.0  156.0   72.0  100.0  138.0\n",
       "B006IB5T4W   91.0  156.0  186.0  228.0    NaN    NaN\n",
       "B012Z7IHHI   19.0   50.0   78.0  112.0  100.0  150.0\n",
       "B013XKHA4M   15.0   28.0   36.0   76.0   85.0  168.0\n",
       "B001QY8QXM   55.0  114.0  126.0   64.0    NaN    NaN\n",
       "B0012Y0ZG2   36.0  164.0  144.0    NaN    NaN    NaN\n",
       "B01AVJCDYA    4.0   10.0   36.0   60.0  100.0  132.0\n",
       "B00JVU3K9I    6.0    8.0   66.0   96.0  150.0    6.0"
      ]
     },
     "execution_count": 338,
     "metadata": {},
     "output_type": "execute_result"
    }
   ],
   "source": [
    "buy_in_every_month.loc[top50,:].head(10)"
   ]
  },
  {
   "cell_type": "markdown",
   "id": "BA_8vBtRFqvG",
   "metadata": {
    "id": "BA_8vBtRFqvG"
   },
   "source": [
    "## 產生推薦"
   ]
  },
  {
   "cell_type": "code",
   "execution_count": 339,
   "id": "iFjcQXzfFqvH",
   "metadata": {
    "id": "iFjcQXzfFqvH",
    "outputId": "e84ab1ca-1719-4cdd-dc64-e8d94e928bfa"
   },
   "outputs": [],
   "source": [
    "def recommender(training_data, users=[], k=10):\n",
    "\n",
    "    recommendations = {users[i]:target.to_list() for i in range(len(users))}\n",
    "    return recommendations\n",
    "\n",
    "\n",
    "ratings_by_user = recommender(ratings_trainings, users)"
   ]
  },
  {
   "cell_type": "markdown",
   "id": "ZV-BkfvRFqvJ",
   "metadata": {
    "id": "ZV-BkfvRFqvJ"
   },
   "source": [
    "## 結果評估"
   ]
  },
  {
   "cell_type": "code",
   "execution_count": 340,
   "id": "9mZejwkcFqvJ",
   "metadata": {
    "colab": {
     "base_uri": "https://localhost:8080/",
     "height": 202
    },
    "id": "9mZejwkcFqvJ",
    "outputId": "d20fda32-ba71-43e4-b872-ae5b73dded15"
   },
   "outputs": [
    {
     "name": "stdout",
     "output_type": "stream",
     "text": [
      "76 590\n"
     ]
    },
    {
     "data": {
      "text/plain": [
       "0.1288135593220339"
      ]
     },
     "execution_count": 340,
     "metadata": {},
     "output_type": "execute_result"
    }
   ],
   "source": [
    "def evaluate(ratings_testings_by_user={}, ratings_by_user={}, method=None):\n",
    "    '''\n",
    "    * ratings_testings_by_user: dict 是測試資料裡 key:user value:商品ID 真實被購買的商品資料（2018-09-01 以後資料）\n",
    "    * ratings_by_user: dict 利用訓練資料學習的推薦商品\n",
    "    * method: str\n",
    "    * score: float\n",
    "    '''\n",
    "    total = 0\n",
    "    for d in ratings_testings_by_user:\n",
    "#         if d in ratings_by_user:\n",
    "        total += len(set(ratings_by_user[d]) & set(ratings_testings_by_user[d]))\n",
    "    print(total,len(ratings_testings))\n",
    "    score = total / len(ratings_testings)\n",
    "    return score\n",
    "\n",
    "evaluate(ratings_testings_by_user, ratings_by_user)"
   ]
  }
 ],
 "metadata": {
  "colab": {
   "include_colab_link": true,
   "name": "「sample.ipynb」的副本",
   "provenance": []
  },
  "kernelspec": {
   "display_name": "Python 3",
   "language": "python",
   "name": "python3"
  },
  "language_info": {
   "codemirror_mode": {
    "name": "ipython",
    "version": 3
   },
   "file_extension": ".py",
   "mimetype": "text/x-python",
   "name": "python",
   "nbconvert_exporter": "python",
   "pygments_lexer": "ipython3",
   "version": "3.8.8"
  }
 },
 "nbformat": 4,
 "nbformat_minor": 5
}
